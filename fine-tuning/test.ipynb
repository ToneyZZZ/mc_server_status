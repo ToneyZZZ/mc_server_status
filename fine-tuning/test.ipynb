{
 "cells": [
  {
   "cell_type": "code",
   "execution_count": 32,
   "metadata": {},
   "outputs": [],
   "source": [
    "from sentence_transformers import SentenceTransformer, util\n",
    "import numpy as np\n",
    "import csv\n"
   ]
  },
  {
   "cell_type": "code",
   "execution_count": 33,
   "metadata": {},
   "outputs": [],
   "source": [
    "\n",
    "# 加载模型\n",
    "original_model = SentenceTransformer('paraphrase-multilingual-MiniLM-L12-v2')  # 原始模型\n",
    "finetuned_model = SentenceTransformer('finetuned_paraphrase-multilingual-MiniLM-L12-v2')  # 替换为你的finetuned模型路径\n"
   ]
  },
  {
   "cell_type": "code",
   "execution_count": 34,
   "metadata": {},
   "outputs": [],
   "source": [
    "\n",
    "# 目标句子\n",
    "target_sentences = [\"查询服务器信息\", \"服务器现在开着吗？\"]\n",
    "\n",
    "# 计算目标句子的嵌入\n",
    "target_embeddings = {\n",
    "    'original': original_model.encode(target_sentences, convert_to_tensor=True),\n",
    "    'finetuned': finetuned_model.encode(target_sentences, convert_to_tensor=True)\n",
    "}\n",
    "\n",
    "# 读取数据集\n",
    "with open('./dataset/short.txt', 'r', encoding='utf-8') as file:\n",
    "    lines = file.readlines()\n"
   ]
  },
  {
   "cell_type": "code",
   "execution_count": null,
   "metadata": {},
   "outputs": [
    {
     "name": "stdout",
     "output_type": "stream",
     "text": [
      "相似度计算完成，结果已保存至res.csv\n"
     ]
    }
   ],
   "source": [
    "\n",
    "# 计算相似度并保存到csv\n",
    "with open('res.csv', mode='w', newline='', encoding='utf-8') as csvfile:\n",
    "    fieldnames = ['句子', '原始模型_查询服务器信息', '原始模型_服务器现在开着吗', 'finetuned模型_查询服务器信息', 'finetuned模型_服务器现在开着吗']\n",
    "    writer = csv.DictWriter(csvfile, fieldnames=fieldnames)\n",
    "    \n",
    "    writer.writeheader()\n",
    "    \n",
    "    for line in lines:\n",
    "        # 去除首尾空格\n",
    "        sentence = line.strip()\n",
    "        \n",
    "        if len(sentence) >= 2:  # 确保句子长度大于等于2\n",
    "            # 计算原始模型和finetuned模型的相似度\n",
    "            original_sim = [\n",
    "                util.pytorch_cos_sim(original_model.encode(sentence, convert_to_tensor=True), target_embeddings['original'][i]).item()\n",
    "                for i in range(len(target_sentences))\n",
    "            ]\n",
    "            finetuned_sim = [\n",
    "                util.pytorch_cos_sim(finetuned_model.encode(sentence, convert_to_tensor=True), target_embeddings['finetuned'][i]).item()\n",
    "                for i in range(len(target_sentences))\n",
    "            ]\n",
    "            \n",
    "            # 写入csv\n",
    "            writer.writerow({\n",
    "                '句子': sentence,\n",
    "                '原始模型_查询服务器信息': original_sim[0],\n",
    "                '原始模型_服务器现在开着吗': original_sim[1],\n",
    "                'finetuned模型_查询服务器信息': finetuned_sim[0],\n",
    "                'finetuned模型_服务器现在开着吗': finetuned_sim[1]\n",
    "            })\n",
    "            \n",
    "print(\"相似度计算完成，结果已保存至res.csv\")"
   ]
  }
 ],
 "metadata": {
  "kernelspec": {
   "display_name": "Python 3",
   "language": "python",
   "name": "python3"
  },
  "language_info": {
   "codemirror_mode": {
    "name": "ipython",
    "version": 3
   },
   "file_extension": ".py",
   "mimetype": "text/x-python",
   "name": "python",
   "nbconvert_exporter": "python",
   "pygments_lexer": "ipython3",
   "version": "3.10.10"
  }
 },
 "nbformat": 4,
 "nbformat_minor": 2
}
