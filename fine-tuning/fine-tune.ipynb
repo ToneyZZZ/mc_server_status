{
 "cells": [
  {
   "cell_type": "code",
   "execution_count": 13,
   "metadata": {},
   "outputs": [],
   "source": [
    "from sentence_transformers import SentenceTransformer, losses, SentencesDataset, InputExample\n",
    "from sklearn.model_selection import train_test_split\n",
    "from torch.utils.data import DataLoader\n",
    "import csv\n"
   ]
  },
  {
   "cell_type": "code",
   "execution_count": 2,
   "metadata": {},
   "outputs": [],
   "source": [
    "# Step 1: 读取原始句子\n",
    "with open('./dataset/syn.txt', 'r', encoding='utf-8') as f:\n",
    "    sentences = f.readlines()\n"
   ]
  },
  {
   "cell_type": "code",
   "execution_count": 3,
   "metadata": {},
   "outputs": [],
   "source": [
    "# Step 2: 替换\"MCS\"为\"服务器\", \"mc服\", \"服\"\n",
    "synonym_replacements = ['服', 'mc服']"
   ]
  },
  {
   "cell_type": "code",
   "execution_count": 4,
   "metadata": {},
   "outputs": [],
   "source": [
    "# Step 3: 创建同义句对\n",
    "pairs = []\n",
    "for sentence in sentences:\n",
    "    sentence = sentence.strip()  # 去掉多余的换行符和空格\n",
    "    for replacement in synonym_replacements:\n",
    "        # 替换\"MCS\"并生成同义句对\n",
    "        orig = sentence.replace(\"MCS\", \"服务器\")\n",
    "        modified_sentence = sentence.replace(\"MCS\", replacement)\n",
    "        pairs.append((orig, modified_sentence))\n"
   ]
  },
  {
   "cell_type": "code",
   "execution_count": null,
   "metadata": {},
   "outputs": [],
   "source": [
    "# Step 4: 保存同义句对\n",
    "with open('./dataset/synonym_pairs.txt', 'w', encoding='utf-8') as f:\n",
    "    for pair in pairs:\n",
    "        f.write(f\"{pair[0]}\\t{pair[1]}\\n\")\n"
   ]
  },
  {
   "cell_type": "code",
   "execution_count": null,
   "metadata": {},
   "outputs": [],
   "source": [
    "# Step 5: 加载 SentenceTransformer 模型\n",
    "model = SentenceTransformer('paraphrase-multilingual-MiniLM-L12-v2')\n"
   ]
  },
  {
   "cell_type": "code",
   "execution_count": 16,
   "metadata": {},
   "outputs": [],
   "source": [
    "# Step 6: 准备训练数据\n",
    "positive_examples = [InputExample(texts=[pair[0], pair[1]], label=1.0) for pair in pairs]\n",
    "negative_examples = []\n",
    "with open('./dataset/train_neg.csv', mode='r', encoding='utf-8') as file:\n",
    "    reader = csv.reader(file)\n",
    "    next(reader)  # 跳过表头\n",
    "    for row in reader:\n",
    "        negative_examples.append(InputExample(texts=[row[0], row[1]], label=float(row[2])))"
   ]
  },
  {
   "cell_type": "code",
   "execution_count": 17,
   "metadata": {},
   "outputs": [],
   "source": [
    "\n",
    "train_dataset = SentencesDataset(positive_examples + negative_examples, model)\n"
   ]
  },
  {
   "cell_type": "code",
   "execution_count": 18,
   "metadata": {},
   "outputs": [],
   "source": [
    "# Step 7: 将训练数据划分为训练集和验证集\n",
    "train_data, val_data = train_test_split(train_dataset, test_size=0.2)\n"
   ]
  },
  {
   "cell_type": "code",
   "execution_count": 22,
   "metadata": {},
   "outputs": [
    {
     "data": {
      "application/vnd.jupyter.widget-view+json": {
       "model_id": "8fd1dc2422614087820baa7227f369de",
       "version_major": 2,
       "version_minor": 0
      },
      "text/plain": [
       "  0%|          | 0/28 [00:00<?, ?it/s]"
      ]
     },
     "metadata": {},
     "output_type": "display_data"
    },
    {
     "name": "stdout",
     "output_type": "stream",
     "text": [
      "{'train_runtime': 24.772, 'train_samples_per_second': 16.147, 'train_steps_per_second': 1.13, 'train_loss': 0.30372258595057894, 'epoch': 4.0}\n"
     ]
    }
   ],
   "source": [
    "# Step 8: 使用 SentenceTransformer 进行 finetune\n",
    "# 这里使用训练数据进行 fine-tuning，可以根据需要调整训练参数\n",
    "train_dataloader = DataLoader(train_data, batch_size=16, shuffle=True)\n",
    "train_loss = losses.MultipleNegativesRankingLoss(model)\n",
    "\n",
    "model.fit(train_objectives=[(train_dataloader, train_loss)], epochs=4, warmup_steps=100, show_progress_bar=True)\n"
   ]
  },
  {
   "cell_type": "code",
   "execution_count": 24,
   "metadata": {},
   "outputs": [],
   "source": [
    "\n",
    "# 保存 fine-tuned 模型\n",
    "model.save('finetuned_paraphrase-multilingual-MiniLM-L12-v2')"
   ]
  }
 ],
 "metadata": {
  "kernelspec": {
   "display_name": "Python 3",
   "language": "python",
   "name": "python3"
  },
  "language_info": {
   "codemirror_mode": {
    "name": "ipython",
    "version": 3
   },
   "file_extension": ".py",
   "mimetype": "text/x-python",
   "name": "python",
   "nbconvert_exporter": "python",
   "pygments_lexer": "ipython3",
   "version": "3.10.10"
  }
 },
 "nbformat": 4,
 "nbformat_minor": 2
}
